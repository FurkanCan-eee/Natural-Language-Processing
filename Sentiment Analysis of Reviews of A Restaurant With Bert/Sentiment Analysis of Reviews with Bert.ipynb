{
 "cells": [
  {
   "cell_type": "markdown",
   "id": "64dff6d4",
   "metadata": {},
   "source": [
    "# <center>**<font color=black>Sentiment Analysis on Product Reviews Using Bert**"
   ]
  },
  {
   "cell_type": "markdown",
   "id": "051f31fe",
   "metadata": {},
   "source": [
    "> ***This notebook includes usage of Bert model. This is an example of sentiment analysis on product reviews in six languages: English,<br> Dutch, German, French, Spanish and Italian. The model predicts the sentiment of the review as a number of stars (between 1 and 5).***"
   ]
  },
  {
   "cell_type": "markdown",
   "id": "63430fcd",
   "metadata": {},
   "source": [
    "### <font color=blue>Importing Packages"
   ]
  },
  {
   "cell_type": "code",
   "execution_count": 35,
   "id": "8d69753d",
   "metadata": {},
   "outputs": [],
   "source": [
    "from transformers import AutoTokenizer, AutoModelForSequenceClassification\n",
    "import torch\n",
    "import requests\n",
    "from bs4 import BeautifulSoup\n",
    "import re\n",
    "import pandas as pd\n",
    "import numpy as np"
   ]
  },
  {
   "cell_type": "markdown",
   "id": "8a6d23f8",
   "metadata": {},
   "source": [
    "### <font color=blue>Instantiating The Model"
   ]
  },
  {
   "cell_type": "markdown",
   "id": "8ea60d9b",
   "metadata": {},
   "source": [
    "> ***In this part, we take the pre-trained Bert model from the website 'Hugging Face' url given below:\n",
    "https://huggingface.co/nlptown/bert-base-multilingual-uncased-sentiment***"
   ]
  },
  {
   "cell_type": "code",
   "execution_count": 47,
   "id": "8057830b",
   "metadata": {},
   "outputs": [],
   "source": [
    "tokenizer = AutoTokenizer.from_pretrained('nlptown/bert-base-multilingual-uncased-sentiment')\n",
    "model = AutoModelForSequenceClassification.from_pretrained('nlptown/bert-base-multilingual-uncased-sentiment')"
   ]
  },
  {
   "cell_type": "markdown",
   "id": "9093b89f",
   "metadata": {},
   "source": [
    "### <font color=blue>Encoding and Calculating Sentiment"
   ]
  },
  {
   "cell_type": "markdown",
   "id": "56de137c",
   "metadata": {},
   "source": [
    "> ***In this part, we try to make encoding available for usage. It can be seen that encode function of tokenizer enables us to encode any sentence or paragraph according to pre-trained model weights. After that, if we give the encoded vector to the model, we can obtain some beneficial information.Then, we can get the result of the sentiment using argmax function of torch library***"
   ]
  },
  {
   "cell_type": "code",
   "execution_count": 15,
   "id": "fe311ddf",
   "metadata": {},
   "outputs": [],
   "source": [
    "tokens = tokenizer.encode('There was a situation about it. I dont know what but it was something terrible.', return_tensors='pt')"
   ]
  },
  {
   "cell_type": "code",
   "execution_count": 16,
   "id": "2ec6c085",
   "metadata": {},
   "outputs": [
    {
     "data": {
      "text/plain": [
       "tensor([  101, 10768, 10140,   143, 16894, 10935, 10197,   119,   151, 11930,\n",
       "        16332, 11523, 10502, 10197, 10140, 19501, 50334,   119,   102])"
      ]
     },
     "execution_count": 16,
     "metadata": {},
     "output_type": "execute_result"
    }
   ],
   "source": [
    "tokens[0]"
   ]
  },
  {
   "cell_type": "code",
   "execution_count": 17,
   "id": "bcde4acd",
   "metadata": {},
   "outputs": [
    {
     "data": {
      "text/plain": [
       "'[CLS] there was a situation about it. i dont know what but it was something terrible. [SEP]'"
      ]
     },
     "execution_count": 17,
     "metadata": {},
     "output_type": "execute_result"
    }
   ],
   "source": [
    "tokenizer.decode(tokens[0])"
   ]
  },
  {
   "cell_type": "code",
   "execution_count": 19,
   "id": "178e5460",
   "metadata": {},
   "outputs": [
    {
     "data": {
      "text/plain": [
       "SequenceClassifierOutput(loss=None, logits=tensor([[ 1.8566,  1.8358,  0.6770, -1.3886, -2.5452]],\n",
       "       grad_fn=<AddmmBackward0>), hidden_states=None, attentions=None)"
      ]
     },
     "execution_count": 19,
     "metadata": {},
     "output_type": "execute_result"
    }
   ],
   "source": [
    "result = model(tokens)\n",
    "result"
   ]
  },
  {
   "cell_type": "code",
   "execution_count": 22,
   "id": "d0c2cd96",
   "metadata": {},
   "outputs": [
    {
     "data": {
      "text/plain": [
       "tensor([[ 1.8566,  1.8358,  0.6770, -1.3886, -2.5452]],\n",
       "       grad_fn=<AddmmBackward0>)"
      ]
     },
     "execution_count": 22,
     "metadata": {},
     "output_type": "execute_result"
    }
   ],
   "source": [
    "result.logits"
   ]
  },
  {
   "cell_type": "code",
   "execution_count": 23,
   "id": "e5e811fd",
   "metadata": {},
   "outputs": [
    {
     "data": {
      "text/plain": [
       "1"
      ]
     },
     "execution_count": 23,
     "metadata": {},
     "output_type": "execute_result"
    }
   ],
   "source": [
    "int(torch.argmax(result.logits)+1)"
   ]
  },
  {
   "cell_type": "markdown",
   "id": "0cdeafcf",
   "metadata": {},
   "source": [
    "### <font color=blue>Collecting Reviews From a Website Using Web Scraping Technic"
   ]
  },
  {
   "cell_type": "markdown",
   "id": "4465cefc",
   "metadata": {},
   "source": [
    "> ***In this part, we are trying to obtain the comments given to a restaurant from a website. We do this by using 'requests, BeautifulSoup4 and re' libraries. Requests package gives us the permission to be able to access the data of the website that we want to srap. After we get the permission, with BeautifulSoup4 library we can parse the website from its html codes. Then with re library, we can get only the desired part of the data, and with BeautifulSoup4 package we can search for this desired part in all page***"
   ]
  },
  {
   "cell_type": "code",
   "execution_count": 26,
   "id": "17195273",
   "metadata": {},
   "outputs": [],
   "source": [
    "r = requests.get(\"https://www.yelp.com/biz/social-brew-cafe-pyrmont\")\n",
    "soup = BeautifulSoup(r.text,\"html.parser\")\n",
    "regex = re.compile('.*comment*.')\n",
    "results = soup.find_all('p',{'class':regex})\n",
    "reviews = [result.text for result in results]"
   ]
  },
  {
   "cell_type": "code",
   "execution_count": 34,
   "id": "74fc11c7",
   "metadata": {},
   "outputs": [
    {
     "data": {
      "text/plain": [
       "\"It was ok. The coffee wasn't the best but it was fine. The relish on the breakfast roll was yum which did make it sing. So perhaps I just got a bad coffee but the food was good on my visit.\""
      ]
     },
     "execution_count": 34,
     "metadata": {},
     "output_type": "execute_result"
    }
   ],
   "source": [
    "reviews[1]"
   ]
  },
  {
   "cell_type": "markdown",
   "id": "417be524",
   "metadata": {},
   "source": [
    "### <font color=blue>Loading Reviews into DataFrame and Score"
   ]
  },
  {
   "cell_type": "code",
   "execution_count": 36,
   "id": "43a3de9b",
   "metadata": {},
   "outputs": [],
   "source": [
    "df = pd.DataFrame(np.array(reviews), columns = [\"reviews\"])"
   ]
  },
  {
   "cell_type": "code",
   "execution_count": 38,
   "id": "82f1c6b7",
   "metadata": {},
   "outputs": [
    {
     "data": {
      "text/plain": [
       "\"It was ok. The coffee wasn't the best but it was fine. The relish on the breakfast roll was yum which did make it sing. So perhaps I just got a bad coffee but the food was good on my visit.\""
      ]
     },
     "execution_count": 38,
     "metadata": {},
     "output_type": "execute_result"
    }
   ],
   "source": [
    "df[\"reviews\"].iloc[1]"
   ]
  },
  {
   "cell_type": "code",
   "execution_count": 41,
   "id": "d2a9dfc4",
   "metadata": {},
   "outputs": [],
   "source": [
    "def sentiment_score(review):\n",
    "    tokens = tokenizer.encode(review, return_tensors=\"pt\")\n",
    "    result = model(tokens)\n",
    "    return int(torch.argmax(result.logits)+1)"
   ]
  },
  {
   "cell_type": "code",
   "execution_count": 42,
   "id": "2f8208e8",
   "metadata": {},
   "outputs": [
    {
     "data": {
      "text/plain": [
       "3"
      ]
     },
     "execution_count": 42,
     "metadata": {},
     "output_type": "execute_result"
    }
   ],
   "source": [
    "sentiment_score(df[\"reviews\"].iloc[1])"
   ]
  },
  {
   "cell_type": "code",
   "execution_count": 45,
   "id": "fb4733da",
   "metadata": {},
   "outputs": [
    {
     "data": {
      "text/html": [
       "<div>\n",
       "<style scoped>\n",
       "    .dataframe tbody tr th:only-of-type {\n",
       "        vertical-align: middle;\n",
       "    }\n",
       "\n",
       "    .dataframe tbody tr th {\n",
       "        vertical-align: top;\n",
       "    }\n",
       "\n",
       "    .dataframe thead th {\n",
       "        text-align: right;\n",
       "    }\n",
       "</style>\n",
       "<table border=\"1\" class=\"dataframe\">\n",
       "  <thead>\n",
       "    <tr style=\"text-align: right;\">\n",
       "      <th></th>\n",
       "      <th>reviews</th>\n",
       "      <th>sentiment score</th>\n",
       "    </tr>\n",
       "  </thead>\n",
       "  <tbody>\n",
       "    <tr>\n",
       "      <th>0</th>\n",
       "      <td>Great staff and food.  Must try is the pan fri...</td>\n",
       "      <td>5</td>\n",
       "    </tr>\n",
       "    <tr>\n",
       "      <th>1</th>\n",
       "      <td>It was ok. The coffee wasn't the best but it w...</td>\n",
       "      <td>3</td>\n",
       "    </tr>\n",
       "    <tr>\n",
       "      <th>2</th>\n",
       "      <td>I came to Social brew cafe for brunch while ex...</td>\n",
       "      <td>5</td>\n",
       "    </tr>\n",
       "    <tr>\n",
       "      <th>3</th>\n",
       "      <td>Ricotta hot cakes! These were so yummy. I ate ...</td>\n",
       "      <td>5</td>\n",
       "    </tr>\n",
       "    <tr>\n",
       "      <th>4</th>\n",
       "      <td>I went here a little while ago- a beautiful mo...</td>\n",
       "      <td>1</td>\n",
       "    </tr>\n",
       "    <tr>\n",
       "      <th>5</th>\n",
       "      <td>We came for brunch twice in our week-long visi...</td>\n",
       "      <td>5</td>\n",
       "    </tr>\n",
       "    <tr>\n",
       "      <th>6</th>\n",
       "      <td>Ron &amp; Jo are on the go down under and Wow!  We...</td>\n",
       "      <td>5</td>\n",
       "    </tr>\n",
       "    <tr>\n",
       "      <th>7</th>\n",
       "      <td>Great coffee and vibe. That's all  you need. C...</td>\n",
       "      <td>5</td>\n",
       "    </tr>\n",
       "    <tr>\n",
       "      <th>8</th>\n",
       "      <td>Great coffee and vibe. That's all  you need. C...</td>\n",
       "      <td>4</td>\n",
       "    </tr>\n",
       "    <tr>\n",
       "      <th>9</th>\n",
       "      <td>Good coffee and toasts. Straight up and down -...</td>\n",
       "      <td>5</td>\n",
       "    </tr>\n",
       "  </tbody>\n",
       "</table>\n",
       "</div>"
      ],
      "text/plain": [
       "                                             reviews  sentiment score\n",
       "0  Great staff and food.  Must try is the pan fri...                5\n",
       "1  It was ok. The coffee wasn't the best but it w...                3\n",
       "2  I came to Social brew cafe for brunch while ex...                5\n",
       "3  Ricotta hot cakes! These were so yummy. I ate ...                5\n",
       "4  I went here a little while ago- a beautiful mo...                1\n",
       "5  We came for brunch twice in our week-long visi...                5\n",
       "6  Ron & Jo are on the go down under and Wow!  We...                5\n",
       "7  Great coffee and vibe. That's all  you need. C...                5\n",
       "8  Great coffee and vibe. That's all  you need. C...                4\n",
       "9  Good coffee and toasts. Straight up and down -...                5"
      ]
     },
     "execution_count": 45,
     "metadata": {},
     "output_type": "execute_result"
    }
   ],
   "source": [
    "df[\"sentiment score\"] = df[\"reviews\"].apply(lambda x: sentiment_score(x[:1024]))\n",
    "df.head(10)"
   ]
  },
  {
   "cell_type": "code",
   "execution_count": null,
   "id": "8a214abb",
   "metadata": {},
   "outputs": [],
   "source": []
  }
 ],
 "metadata": {
  "kernelspec": {
   "display_name": "Python 3 (ipykernel)",
   "language": "python",
   "name": "python3"
  },
  "language_info": {
   "codemirror_mode": {
    "name": "ipython",
    "version": 3
   },
   "file_extension": ".py",
   "mimetype": "text/x-python",
   "name": "python",
   "nbconvert_exporter": "python",
   "pygments_lexer": "ipython3",
   "version": "3.8.8"
  }
 },
 "nbformat": 4,
 "nbformat_minor": 5
}
